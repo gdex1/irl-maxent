{
 "metadata": {
  "language_info": {
   "codemirror_mode": {
    "name": "ipython",
    "version": 3
   },
   "file_extension": ".py",
   "mimetype": "text/x-python",
   "name": "python",
   "nbconvert_exporter": "python",
   "pygments_lexer": "ipython3",
   "version": "3.8.3-final"
  },
  "orig_nbformat": 2,
  "kernelspec": {
   "name": "python38364bitenvvenvde0bd83f06e04720aee163b5175a169c",
   "display_name": "Python 3.8.3 64-bit ('env': venv)",
   "language": "python"
  }
 },
 "nbformat": 4,
 "nbformat_minor": 2,
 "cells": [
  {
   "cell_type": "code",
   "execution_count": 23,
   "metadata": {},
   "outputs": [],
   "source": [
    "import numpy as np\n",
    "from trajectory import Trajectory, generate_trajectory, generate_trajectories, stochastic_policy_adapter\n",
    "from solver import value_iteration, stochastic_policy_from_value_expectation\n",
    "from snake_ladder import SnakeLadderWorld\n",
    "import tensorflow as tf\n",
    "import datetime"
   ]
  },
  {
   "cell_type": "code",
   "execution_count": 24,
   "metadata": {},
   "outputs": [],
   "source": [
    "# define some consants\n",
    "world_size = 20\n",
    "shortcut_density = 0.1\n",
    "success_prob = .9\n",
    "n_trajectories_per_policy = 100"
   ]
  },
  {
   "cell_type": "code",
   "execution_count": 25,
   "metadata": {},
   "outputs": [
    {
     "output_type": "execute_result",
     "data": {
      "text/plain": [
       "array([ 0,  1,  2,  3,  4,  5,  6,  7,  8,  9, 10, 11, 12, 13,  3, 15, 16,\n",
       "       17,  5, 19])"
      ]
     },
     "metadata": {},
     "execution_count": 25
    }
   ],
   "source": [
    "# create our world\n",
    "world = SnakeLadderWorld(size=world_size, shortcut_density=shortcut_density)\n",
    "\n",
    "# set up the reward function\n",
    "reward = np.zeros(world.n_states)\n",
    "reward[-1] = 1.0\n",
    "# start state\n",
    "start = [0]\n",
    "\n",
    "# set up terminal states\n",
    "terminal = [world.size - 1]\n",
    "\n",
    "world.game_board"
   ]
  },
  {
   "cell_type": "code",
   "execution_count": 26,
   "metadata": {},
   "outputs": [],
   "source": [
    "# create some policies\n",
    "# create \"fixed\" policies which each execeute one of the three actions w/ prob p (success_prob)\n",
    "# randomly sample from all actions w/ prob 1 - p\n",
    "# so excute one action with prob p + 1/3(1 - p) and others with 1/3(1 -  p)\n",
    "policies_fixed = []\n",
    "\n",
    "for i in range(3):\n",
    "    def policy(state, action = i):\n",
    "        if success_prob >= np.random.uniform():\n",
    "            return action\n",
    "        else:\n",
    "            return np.random.choice(3)\n",
    "    policies_fixed.append(policy)"
   ]
  },
  {
   "cell_type": "code",
   "execution_count": 27,
   "metadata": {},
   "outputs": [
    {
     "output_type": "execute_result",
     "data": {
      "text/plain": [
       "array([0.1031, 1.0006, 1.9025])"
      ]
     },
     "metadata": {},
     "execution_count": 27
    }
   ],
   "source": [
    "# verify our fixed policies\n",
    "samples = 10000\n",
    "means = [0,0,0]\n",
    "for i in range(samples):\n",
    "    for j in range(3):\n",
    "        means[j] += policies_fixed[j](None)\n",
    "means = np.array(means) / samples\n",
    "means"
   ]
  },
  {
   "cell_type": "code",
   "execution_count": 28,
   "metadata": {},
   "outputs": [
    {
     "output_type": "execute_result",
     "data": {
      "text/plain": [
       "array([[0.28792551, 0.32447227, 0.38760223],\n",
       "       [0.28651586, 0.32199244, 0.39149171],\n",
       "       [0.28713419, 0.3220313 , 0.39083451],\n",
       "       [0.28727589, 0.32231397, 0.39041014],\n",
       "       [0.28673386, 0.32326914, 0.389997  ],\n",
       "       [0.28146156, 0.32716457, 0.39137387],\n",
       "       [0.2790831 , 0.33572618, 0.38519072],\n",
       "       [0.28218724, 0.34137534, 0.37643742],\n",
       "       [0.29155258, 0.31970539, 0.38874204],\n",
       "       [0.29146777, 0.3198841 , 0.38864812],\n",
       "       [0.29221949, 0.31814977, 0.38963074],\n",
       "       [0.29891561, 0.3120493 , 0.38903509],\n",
       "       [0.30830371, 0.2823047 , 0.40939159],\n",
       "       [0.18215328, 0.34065469, 0.47719203],\n",
       "       [0.28739151, 0.31675507, 0.39585342],\n",
       "       [0.28211351, 0.32536305, 0.39252344],\n",
       "       [0.2768956 , 0.33436183, 0.38874257],\n",
       "       [0.16357349, 0.39506418, 0.44136232],\n",
       "       [0.33333333, 0.33333333, 0.33333333],\n",
       "       [0.33333333, 0.33333333, 0.33333333]])"
      ]
     },
     "metadata": {},
     "execution_count": 28
    }
   ],
   "source": [
    "# generate an \"optimal\" policy w/ value iteration\n",
    "discount = .7\n",
    "weighting = lambda x: x\n",
    "\n",
    "value = value_iteration(world.p_transition, reward, discount)\n",
    "policy = stochastic_policy_from_value_expectation(world, value)\n",
    "policy_exec = stochastic_policy_adapter(policy)\n",
    "\n",
    "policy"
   ]
  },
  {
   "cell_type": "code",
   "execution_count": 29,
   "metadata": {},
   "outputs": [
    {
     "output_type": "execute_result",
     "data": {
      "text/plain": [
       "[(0, 1, 6), (6, 2, 12), (12, 1, 15), (15, 1, 19)]"
      ]
     },
     "metadata": {},
     "execution_count": 29
    }
   ],
   "source": [
    "# generate trajectories w/ policy (s, a, s')\n",
    "trajectories_optimal = list(generate_trajectories(n_trajectories_per_policy, world, policy_exec, start, terminal))\n",
    "\n",
    "trajectories_optimal = [t._t for t in trajectories_optimal]\n",
    "trajectories_optimal[0]"
   ]
  },
  {
   "cell_type": "code",
   "execution_count": 30,
   "metadata": {},
   "outputs": [],
   "source": [
    "# generate trajectories w/ fixed policies\n",
    "trajectories_fixed_list = []\n",
    "for i in range(3):\n",
    "    trajectories = list(generate_trajectories(n_trajectories_per_policy, world, policies_fixed[i], start, terminal))\n",
    "    trajectories = [t._t for t in trajectories]\n",
    "    trajectories_fixed_list.append(trajectories)\n",
    "\n",
    "\n",
    "#trajectories_fixed_list[0][0], trajectories_fixed_list[1][0]"
   ]
  },
  {
   "cell_type": "code",
   "execution_count": 31,
   "metadata": {},
   "outputs": [
    {
     "output_type": "execute_result",
     "data": {
      "text/plain": [
       "[(0, 1, 6), (6, 2, 12), (12, 1, 15), (15, 1, 19)]"
      ]
     },
     "metadata": {},
     "execution_count": 31
    }
   ],
   "source": [
    "trajectories_optimal[0]"
   ]
  },
  {
   "cell_type": "code",
   "execution_count": 32,
   "metadata": {},
   "outputs": [],
   "source": [
    "# create list of all trajectories, each is a 2d list\n",
    "\n",
    "x_data = [np.matrix(t).tolist() for t in trajectories_optimal]\n",
    "for i in range(3):\n",
    "    x_data.extend([np.matrix(t).tolist() for t in trajectories_fixed_list[i]])"
   ]
  },
  {
   "cell_type": "code",
   "execution_count": 33,
   "metadata": {},
   "outputs": [],
   "source": [
    "# label trajectories\n",
    "\n",
    "# classes: 3 for expert, 0, 1, 2 for policy w/ actions 0,1,2 respectively\n",
    "y_data = [3] * n_trajectories_per_policy\n",
    "for i in range(3):\n",
    "    y_data.extend([i] * n_trajectories_per_policy)"
   ]
  },
  {
   "cell_type": "code",
   "execution_count": 34,
   "metadata": {},
   "outputs": [],
   "source": [
    "# shuffle x,y data together\n",
    "import random\n",
    "temp = list(zip(x_data,y_data))\n",
    "random.shuffle(temp)\n",
    "x_data, y_data = zip(*temp)"
   ]
  },
  {
   "cell_type": "code",
   "execution_count": 35,
   "metadata": {},
   "outputs": [
    {
     "output_type": "stream",
     "name": "stdout",
     "text": [
      "621\n"
     ]
    },
    {
     "output_type": "execute_result",
     "data": {
      "text/plain": [
       "<tf.Tensor: shape=(3,), dtype=int64, numpy=array([400, 621,   3])>"
      ]
     },
     "metadata": {},
     "execution_count": 35
    }
   ],
   "source": [
    "# convert trajectories to ragged tensors\n",
    "x_data = tf.ragged.constant(x_data)\n",
    "max_seq = int(x_data.bounding_shape()[-2])\n",
    "print(max_seq)\n",
    "x_data.bounding_shape()"
   ]
  },
  {
   "cell_type": "code",
   "execution_count": 36,
   "metadata": {},
   "outputs": [
    {
     "output_type": "execute_result",
     "data": {
      "text/plain": [
       "array([2, 0, 3, 2, 0, 3, 3, 3, 2, 3, 0, 2, 2, 0, 2, 3, 2, 2, 1, 0, 1, 0,\n",
       "       0, 0, 1, 3, 1, 2, 2, 2, 0, 3, 0, 3, 3, 1, 3, 3, 1, 2, 0, 1, 2, 2,\n",
       "       1, 2, 1, 3, 3, 3, 2, 0, 0, 2, 3, 2, 0, 0, 1, 1, 0, 0, 1, 2, 0, 0,\n",
       "       1, 2, 3, 3, 3, 0, 3, 1, 2, 1, 3, 1, 0, 3, 0, 3, 3, 2, 1, 2, 3, 0,\n",
       "       2, 1, 3, 0, 1, 0, 2, 0, 3, 1, 3, 0, 1, 0, 0, 1, 2, 3, 3, 1, 2, 0,\n",
       "       3, 1, 2, 1, 2, 2, 0, 1, 2, 2, 2, 2, 2, 2, 0, 1, 3, 3, 2, 2, 1, 1,\n",
       "       0, 2, 2, 0, 2, 1, 0, 1, 0, 3, 0, 0, 3, 3, 3, 3, 0, 3, 1, 3, 1, 0,\n",
       "       2, 3, 0, 3, 0, 1, 0, 2, 1, 1, 0, 2, 0, 2, 1, 0, 0, 2, 0, 3, 2, 0,\n",
       "       2, 0, 1, 3, 2, 1, 2, 1, 1, 1, 3, 1, 3, 1, 1, 3, 3, 0, 0, 2, 3, 1,\n",
       "       1, 3, 0, 3, 3, 0, 3, 1, 0, 0, 1, 0, 1, 0, 3, 3, 1, 1, 3, 2, 1, 2,\n",
       "       3, 3, 2, 1, 2, 1, 1, 2, 2, 0, 2, 0, 2, 1, 0, 1, 2, 3, 0, 3, 0, 2,\n",
       "       3, 3, 1, 3, 1, 1, 1, 0, 1, 3, 0, 2, 3, 3, 2, 3, 0, 1, 1, 0, 2, 2,\n",
       "       3, 1, 1, 3, 3, 2, 1, 3, 2, 2, 3, 0, 0, 0, 3, 3, 3, 1, 2, 3, 3, 0,\n",
       "       1, 3, 0, 1, 3, 0, 0, 2, 1, 3, 1, 1, 0, 1, 2, 0, 1, 3, 1, 1, 2, 0,\n",
       "       3, 1, 3, 0, 1, 2, 0, 1, 2, 2, 1, 2, 2, 3, 0, 0, 0, 0, 0, 2, 1, 2,\n",
       "       3, 1, 2, 2, 0, 3, 2, 0, 2, 1, 2, 2, 1, 2, 2, 0, 1, 3, 1, 3, 2, 2,\n",
       "       0, 1, 0, 2, 3, 0, 1, 1, 3, 2, 0, 3, 3, 3, 0, 1, 1, 3, 2, 1, 1, 2,\n",
       "       3, 1, 3, 0, 1, 0, 0, 0, 0, 2, 1, 2, 2, 3, 0, 2, 2, 3, 1, 3, 2, 2,\n",
       "       1, 3, 0, 0])"
      ]
     },
     "metadata": {},
     "execution_count": 36
    }
   ],
   "source": [
    "# convert y to numpy array\n",
    "y_data = np.array(y_data)\n",
    "y_data"
   ]
  },
  {
   "cell_type": "code",
   "execution_count": 37,
   "metadata": {},
   "outputs": [
    {
     "output_type": "execute_result",
     "data": {
      "text/plain": [
       "(TensorShape([80, None, None]), TensorShape([320, None, None]), (80,), (320,))"
      ]
     },
     "metadata": {},
     "execution_count": 37
    }
   ],
   "source": [
    "# split into train and test\n",
    "test_prop = .20\n",
    "test_n = int(len(y_data) * test_prop)\n",
    "x_test = x_data[:test_n, :, :]\n",
    "y_test = y_data[:test_n]\n",
    "x_train = x_data[test_n:,:,:]\n",
    "y_train = y_data[test_n:]\n",
    "x_test.shape, x_train.shape, y_test.shape, y_train.shape"
   ]
  },
  {
   "cell_type": "code",
   "execution_count": 38,
   "metadata": {},
   "outputs": [],
   "source": [
    "# create LSTM model\n",
    "lstm_model = tf.keras.Sequential([\n",
    "    tf.keras.layers.Input(shape=(max_seq,3), dtype=tf.float32, ragged=True),\n",
    "    tf.keras.layers.LSTM(64),\n",
    "    tf.keras.layers.Dropout(.5),\n",
    "    tf.keras.layers.Dense(64, activation='relu'),\n",
    "    tf.keras.layers.Dense(4, activation='softmax')\n",
    "])"
   ]
  },
  {
   "cell_type": "code",
   "execution_count": 39,
   "metadata": {},
   "outputs": [
    {
     "output_type": "stream",
     "name": "stdout",
     "text": [
      "Model: \"sequential_1\"\n_________________________________________________________________\nLayer (type)                 Output Shape              Param #   \n=================================================================\nlstm_1 (LSTM)                (None, 64)                17408     \n_________________________________________________________________\ndropout_1 (Dropout)          (None, 64)                0         \n_________________________________________________________________\ndense_2 (Dense)              (None, 64)                4160      \n_________________________________________________________________\ndense_3 (Dense)              (None, 4)                 260       \n=================================================================\nTotal params: 21,828\nTrainable params: 21,828\nNon-trainable params: 0\n_________________________________________________________________\n"
     ]
    }
   ],
   "source": [
    "lstm_model.compile(loss=tf.keras.losses.SparseCategoricalCrossentropy(from_logits=True),\n",
    "              optimizer=tf.keras.optimizers.Adam(1e-4),\n",
    "              metrics=['accuracy'])\n",
    "lstm_model.summary()"
   ]
  },
  {
   "cell_type": "code",
   "execution_count": 40,
   "metadata": {},
   "outputs": [
    {
     "output_type": "stream",
     "name": "stdout",
     "text": [
      "Epoch 1/50\n",
      " 2/32 [>.............................] - ETA: 2s - loss: 1.3627 - accuracy: 0.4000WARNING:tensorflow:Callbacks method `on_train_batch_end` is slow compared to the batch time (batch time: 0.0438s vs `on_train_batch_end` time: 0.1528s). Check your callbacks.\n",
      "32/32 [==============================] - 3s 97ms/step - loss: 1.3925 - accuracy: 0.2625 - val_loss: 1.3714 - val_accuracy: 0.5000\n",
      "Epoch 2/50\n",
      "32/32 [==============================] - 3s 78ms/step - loss: 1.3876 - accuracy: 0.2844 - val_loss: 1.3588 - val_accuracy: 0.3250\n",
      "Epoch 3/50\n",
      "32/32 [==============================] - 3s 84ms/step - loss: 1.3766 - accuracy: 0.3094 - val_loss: 1.3440 - val_accuracy: 0.2625\n",
      "Epoch 4/50\n",
      "32/32 [==============================] - 3s 79ms/step - loss: 1.3487 - accuracy: 0.3594 - val_loss: 1.3274 - val_accuracy: 0.2750\n",
      "Epoch 5/50\n",
      "32/32 [==============================] - 3s 87ms/step - loss: 1.3338 - accuracy: 0.3938 - val_loss: 1.3075 - val_accuracy: 0.4000\n",
      "Epoch 6/50\n",
      "32/32 [==============================] - 3s 84ms/step - loss: 1.3103 - accuracy: 0.4281 - val_loss: 1.2843 - val_accuracy: 0.4750\n",
      "Epoch 7/50\n",
      "32/32 [==============================] - 3s 83ms/step - loss: 1.3002 - accuracy: 0.4250 - val_loss: 1.2610 - val_accuracy: 0.5000\n",
      "Epoch 8/50\n",
      "32/32 [==============================] - 3s 82ms/step - loss: 1.2774 - accuracy: 0.4500 - val_loss: 1.2406 - val_accuracy: 0.5250\n",
      "Epoch 9/50\n",
      "32/32 [==============================] - 3s 87ms/step - loss: 1.2498 - accuracy: 0.4688 - val_loss: 1.2186 - val_accuracy: 0.5250\n",
      "Epoch 10/50\n",
      "32/32 [==============================] - 3s 80ms/step - loss: 1.2374 - accuracy: 0.5469 - val_loss: 1.2026 - val_accuracy: 0.5750\n",
      "Epoch 11/50\n",
      "32/32 [==============================] - 3s 84ms/step - loss: 1.2217 - accuracy: 0.4969 - val_loss: 1.1884 - val_accuracy: 0.6375\n",
      "Epoch 12/50\n",
      "32/32 [==============================] - 3s 83ms/step - loss: 1.2098 - accuracy: 0.5781 - val_loss: 1.1763 - val_accuracy: 0.6375\n",
      "Epoch 13/50\n",
      "32/32 [==============================] - 3s 81ms/step - loss: 1.1966 - accuracy: 0.5844 - val_loss: 1.1654 - val_accuracy: 0.6375\n",
      "Epoch 14/50\n",
      "32/32 [==============================] - 2s 74ms/step - loss: 1.1875 - accuracy: 0.5781 - val_loss: 1.1554 - val_accuracy: 0.6500\n",
      "Epoch 15/50\n",
      "32/32 [==============================] - 3s 82ms/step - loss: 1.1732 - accuracy: 0.6375 - val_loss: 1.1434 - val_accuracy: 0.6625\n",
      "Epoch 16/50\n",
      "32/32 [==============================] - 3s 82ms/step - loss: 1.1556 - accuracy: 0.6500 - val_loss: 1.1320 - val_accuracy: 0.6500\n",
      "Epoch 17/50\n",
      "32/32 [==============================] - 2s 77ms/step - loss: 1.1475 - accuracy: 0.6406 - val_loss: 1.1241 - val_accuracy: 0.6625\n",
      "Epoch 18/50\n",
      "32/32 [==============================] - 3s 80ms/step - loss: 1.1344 - accuracy: 0.6656 - val_loss: 1.1161 - val_accuracy: 0.6625\n",
      "Epoch 19/50\n",
      "32/32 [==============================] - 3s 89ms/step - loss: 1.1166 - accuracy: 0.6656 - val_loss: 1.1093 - val_accuracy: 0.6750\n",
      "Epoch 20/50\n",
      "32/32 [==============================] - 3s 80ms/step - loss: 1.1063 - accuracy: 0.6906 - val_loss: 1.0992 - val_accuracy: 0.6750\n",
      "Epoch 21/50\n",
      "32/32 [==============================] - 3s 80ms/step - loss: 1.1059 - accuracy: 0.6562 - val_loss: 1.0960 - val_accuracy: 0.6750\n",
      "Epoch 22/50\n",
      "32/32 [==============================] - 3s 79ms/step - loss: 1.0951 - accuracy: 0.6844 - val_loss: 1.0844 - val_accuracy: 0.6750\n",
      "Epoch 23/50\n",
      "32/32 [==============================] - 3s 85ms/step - loss: 1.0867 - accuracy: 0.6875 - val_loss: 1.0798 - val_accuracy: 0.6750\n",
      "Epoch 24/50\n",
      "32/32 [==============================] - 3s 78ms/step - loss: 1.0760 - accuracy: 0.7063 - val_loss: 1.0767 - val_accuracy: 0.6875\n",
      "Epoch 25/50\n",
      "32/32 [==============================] - 3s 86ms/step - loss: 1.0755 - accuracy: 0.6938 - val_loss: 1.0705 - val_accuracy: 0.7000\n",
      "Epoch 26/50\n",
      "32/32 [==============================] - 3s 78ms/step - loss: 1.0656 - accuracy: 0.7219 - val_loss: 1.0643 - val_accuracy: 0.7000\n",
      "Epoch 27/50\n",
      "32/32 [==============================] - 3s 81ms/step - loss: 1.0617 - accuracy: 0.7000 - val_loss: 1.0602 - val_accuracy: 0.7000\n",
      "Epoch 28/50\n",
      "32/32 [==============================] - 3s 85ms/step - loss: 1.0575 - accuracy: 0.7063 - val_loss: 1.0581 - val_accuracy: 0.7125\n",
      "Epoch 29/50\n",
      "32/32 [==============================] - 2s 77ms/step - loss: 1.0455 - accuracy: 0.7344 - val_loss: 1.0552 - val_accuracy: 0.7125\n",
      "Epoch 30/50\n",
      "32/32 [==============================] - 2s 75ms/step - loss: 1.0461 - accuracy: 0.7312 - val_loss: 1.0514 - val_accuracy: 0.7125\n",
      "Epoch 31/50\n",
      "32/32 [==============================] - 3s 83ms/step - loss: 1.0384 - accuracy: 0.7312 - val_loss: 1.0513 - val_accuracy: 0.7125\n",
      "Epoch 32/50\n",
      "32/32 [==============================] - 2s 78ms/step - loss: 1.0502 - accuracy: 0.7156 - val_loss: 1.0489 - val_accuracy: 0.7000\n",
      "Epoch 33/50\n",
      "32/32 [==============================] - 2s 73ms/step - loss: 1.0352 - accuracy: 0.7250 - val_loss: 1.0465 - val_accuracy: 0.7000\n",
      "Epoch 34/50\n",
      "32/32 [==============================] - 2s 72ms/step - loss: 1.0325 - accuracy: 0.7344 - val_loss: 1.0438 - val_accuracy: 0.7125\n",
      "Epoch 35/50\n",
      "32/32 [==============================] - 3s 85ms/step - loss: 1.0304 - accuracy: 0.7312 - val_loss: 1.0438 - val_accuracy: 0.7000\n",
      "Epoch 36/50\n",
      "32/32 [==============================] - 3s 80ms/step - loss: 1.0186 - accuracy: 0.7344 - val_loss: 1.0407 - val_accuracy: 0.7125\n",
      "Epoch 37/50\n",
      "32/32 [==============================] - 2s 78ms/step - loss: 1.0128 - accuracy: 0.7437 - val_loss: 1.0426 - val_accuracy: 0.7000\n",
      "Epoch 38/50\n",
      "32/32 [==============================] - 2s 75ms/step - loss: 1.0227 - accuracy: 0.7344 - val_loss: 1.0398 - val_accuracy: 0.7000\n",
      "Epoch 39/50\n",
      "32/32 [==============================] - 3s 79ms/step - loss: 1.0218 - accuracy: 0.7250 - val_loss: 1.0402 - val_accuracy: 0.7000\n",
      "Epoch 40/50\n",
      "32/32 [==============================] - 2s 71ms/step - loss: 1.0184 - accuracy: 0.7312 - val_loss: 1.0377 - val_accuracy: 0.7000\n",
      "Epoch 41/50\n",
      "32/32 [==============================] - 3s 79ms/step - loss: 1.0155 - accuracy: 0.7375 - val_loss: 1.0362 - val_accuracy: 0.7000\n",
      "Epoch 42/50\n",
      "32/32 [==============================] - 2s 71ms/step - loss: 1.0158 - accuracy: 0.7375 - val_loss: 1.0363 - val_accuracy: 0.7000\n",
      "Epoch 43/50\n",
      "32/32 [==============================] - 2s 78ms/step - loss: 1.0107 - accuracy: 0.7406 - val_loss: 1.0342 - val_accuracy: 0.7000\n",
      "Epoch 44/50\n",
      "32/32 [==============================] - 2s 73ms/step - loss: 1.0119 - accuracy: 0.7469 - val_loss: 1.0320 - val_accuracy: 0.7000\n",
      "Epoch 45/50\n",
      "32/32 [==============================] - 2s 74ms/step - loss: 1.0107 - accuracy: 0.7375 - val_loss: 1.0331 - val_accuracy: 0.7000\n",
      "Epoch 46/50\n",
      "32/32 [==============================] - 2s 75ms/step - loss: 1.0114 - accuracy: 0.7375 - val_loss: 1.0315 - val_accuracy: 0.7000\n",
      "Epoch 47/50\n",
      "32/32 [==============================] - 3s 81ms/step - loss: 1.0065 - accuracy: 0.7406 - val_loss: 1.0309 - val_accuracy: 0.7000\n",
      "Epoch 48/50\n",
      "32/32 [==============================] - 2s 74ms/step - loss: 1.0005 - accuracy: 0.7469 - val_loss: 1.0303 - val_accuracy: 0.7000\n",
      "Epoch 49/50\n",
      "32/32 [==============================] - 3s 78ms/step - loss: 1.0046 - accuracy: 0.7437 - val_loss: 1.0298 - val_accuracy: 0.7000\n",
      "Epoch 50/50\n",
      "32/32 [==============================] - 2s 71ms/step - loss: 1.0056 - accuracy: 0.7437 - val_loss: 1.0283 - val_accuracy: 0.7000\n"
     ]
    },
    {
     "output_type": "execute_result",
     "data": {
      "text/plain": [
       "<tensorflow.python.keras.callbacks.History at 0x7f61bc2e1d90>"
      ]
     },
     "metadata": {},
     "execution_count": 40
    }
   ],
   "source": [
    "log_dir = \"logs/fit/\" + datetime.datetime.now().strftime(\"%Y%m%d-%H%M%S\")\n",
    "tensorboard_callback = tf.keras.callbacks.TensorBoard(log_dir=log_dir, histogram_freq=1)\n",
    "\n",
    "\n",
    "lstm_model.fit(x_train,y_train, epochs=50, batch_size=int(n_trajectories_per_policy / 10), validation_data=(x_test,y_test), callbacks=[tensorboard_callback])"
   ]
  }
 ]
}