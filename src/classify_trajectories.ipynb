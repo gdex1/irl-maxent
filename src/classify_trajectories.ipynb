{
 "metadata": {
  "language_info": {
   "codemirror_mode": {
    "name": "ipython",
    "version": 3
   },
   "file_extension": ".py",
   "mimetype": "text/x-python",
   "name": "python",
   "nbconvert_exporter": "python",
   "pygments_lexer": "ipython3",
   "version": "3.8.3-final"
  },
  "orig_nbformat": 2,
  "kernelspec": {
   "name": "python38364bitenvvenvde0bd83f06e04720aee163b5175a169c",
   "display_name": "Python 3.8.3 64-bit ('env': venv)",
   "language": "python"
  }
 },
 "nbformat": 4,
 "nbformat_minor": 2,
 "cells": [
  {
   "cell_type": "code",
   "execution_count": 93,
   "metadata": {},
   "outputs": [],
   "source": [
    "import numpy as np\n",
    "from trajectory import Trajectory, generate_trajectory, generate_trajectories, stochastic_policy_adapter\n",
    "from solver import value_iteration, stochastic_policy_from_value_expectation\n",
    "from snake_ladder import SnakeLadderWorld\n",
    "import tensorflow as tf\n",
    "import datetime"
   ]
  },
  {
   "cell_type": "code",
   "execution_count": 94,
   "metadata": {},
   "outputs": [],
   "source": [
    "# define some consants\n",
    "world_size = 20\n",
    "shortcut_density = 0.1\n",
    "success_prob = .9\n",
    "n_trajectories_per_policy = 5000"
   ]
  },
  {
   "cell_type": "code",
   "execution_count": 95,
   "metadata": {},
   "outputs": [
    {
     "output_type": "execute_result",
     "data": {
      "text/plain": [
       "array([ 0,  1,  2,  3,  4,  5,  6,  7,  8,  9, 10,  6, 12,  2, 14, 15, 16,\n",
       "       17, 18, 19])"
      ]
     },
     "metadata": {},
     "execution_count": 95
    }
   ],
   "source": [
    "# create our world\n",
    "world = SnakeLadderWorld(size=world_size, shortcut_density=shortcut_density)\n",
    "\n",
    "# set up the reward function\n",
    "reward = np.zeros(world.n_states)\n",
    "reward[-1] = 1.0\n",
    "# start state\n",
    "start = [0]\n",
    "\n",
    "# set up terminal states\n",
    "terminal = [world.size - 1]\n",
    "\n",
    "world.game_board"
   ]
  },
  {
   "cell_type": "code",
   "execution_count": 96,
   "metadata": {},
   "outputs": [],
   "source": [
    "# create some policies\n",
    "# create \"fixed\" policies which each execeute one of the three actions w/ prob p (success_prob)\n",
    "# randomly sample from all actions w/ prob 1 - p\n",
    "# so excute one action with prob p + 1/3(1 - p) and others with 1/3(1 -  p)\n",
    "policies_fixed = []\n",
    "\n",
    "for i in range(3):\n",
    "    def policy(state, action = i):\n",
    "        if success_prob >= np.random.uniform():\n",
    "            return action\n",
    "        else:\n",
    "            return np.random.choice(3)\n",
    "    policies_fixed.append(policy)"
   ]
  },
  {
   "cell_type": "code",
   "execution_count": 97,
   "metadata": {},
   "outputs": [
    {
     "output_type": "execute_result",
     "data": {
      "text/plain": [
       "array([0.0964, 0.9995, 1.8931])"
      ]
     },
     "metadata": {},
     "execution_count": 97
    }
   ],
   "source": [
    "# verify our fixed policies\n",
    "samples = 10000\n",
    "means = [0,0,0]\n",
    "for i in range(samples):\n",
    "    for j in range(3):\n",
    "        means[j] += policies_fixed[j](None)\n",
    "means = np.array(means) / samples\n",
    "means"
   ]
  },
  {
   "cell_type": "code",
   "execution_count": 98,
   "metadata": {},
   "outputs": [
    {
     "output_type": "execute_result",
     "data": {
      "text/plain": [
       "array([[0.28606134, 0.32108073, 0.39285793],\n",
       "       [0.28559563, 0.32355058, 0.39085379],\n",
       "       [0.28422682, 0.32699581, 0.38877737],\n",
       "       [0.28169483, 0.33197396, 0.38633121],\n",
       "       [0.28178412, 0.33727614, 0.38093973],\n",
       "       [0.28440452, 0.32730325, 0.38829222],\n",
       "       [0.28814351, 0.33203736, 0.37981912],\n",
       "       [0.29879926, 0.30703066, 0.39417009],\n",
       "       [0.29912652, 0.30588175, 0.39499173],\n",
       "       [0.30046042, 0.3025449 , 0.39699468],\n",
       "       [0.22616294, 0.32946972, 0.44436734],\n",
       "       [0.30041501, 0.30093068, 0.39865431],\n",
       "       [0.17516519, 0.34473778, 0.48009703],\n",
       "       [0.28643147, 0.31892896, 0.39463957],\n",
       "       [0.28100747, 0.32782317, 0.39116936],\n",
       "       [0.27562207, 0.3371599 , 0.38721803],\n",
       "       [0.27005555, 0.3472759 , 0.38266855],\n",
       "       [0.26410717, 0.35850648, 0.37738635],\n",
       "       [0.33333333, 0.33333333, 0.33333333],\n",
       "       [0.33333333, 0.33333333, 0.33333333]])"
      ]
     },
     "metadata": {},
     "execution_count": 98
    }
   ],
   "source": [
    "# generate an \"optimal\" policy w/ value iteration\n",
    "discount = .7\n",
    "weighting = lambda x: x\n",
    "\n",
    "value = value_iteration(world.p_transition, reward, discount)\n",
    "policy = stochastic_policy_from_value_expectation(world, value)\n",
    "policy_exec = stochastic_policy_adapter(policy)\n",
    "\n",
    "policy"
   ]
  },
  {
   "cell_type": "code",
   "execution_count": 100,
   "metadata": {},
   "outputs": [],
   "source": [
    "# create list of policies\n",
    "policies = policies_fixed\n",
    "policies.append(policy_exec) # add expert policy to list"
   ]
  },
  {
   "cell_type": "code",
   "execution_count": 102,
   "metadata": {},
   "outputs": [],
   "source": [
    "# generate trajectories with policies\n",
    "trajectories_list = []\n",
    "for i, policy in enumerate(policies):\n",
    "    trajectories = list(generate_trajectories(n_trajectories_per_policy, world, policies[i], start, terminal))\n",
    "    trajectories = [t._t for t in trajectories]\n",
    "    trajectories_list.append(trajectories)"
   ]
  },
  {
   "cell_type": "code",
   "execution_count": 105,
   "metadata": {},
   "outputs": [
    {
     "output_type": "execute_result",
     "data": {
      "text/plain": [
       "[(0, 1, 3), (3, 1, 6), (6, 0, 7), (7, 2, 15), (15, 2, 19)]"
      ]
     },
     "metadata": {},
     "execution_count": 105
    }
   ],
   "source": [
    "# a trajectory from policy 4\n",
    "trajectories_list[3][0]"
   ]
  },
  {
   "cell_type": "code",
   "execution_count": 107,
   "metadata": {},
   "outputs": [],
   "source": [
    "# create list of all trajectories, each is a 2d list\n",
    "\n",
    "x_data = []\n",
    "for i, policy in enumerate(policies):\n",
    "    x_data.extend([np.matrix(t).tolist() for t in trajectories_list[i]])"
   ]
  },
  {
   "cell_type": "code",
   "execution_count": 108,
   "metadata": {},
   "outputs": [],
   "source": [
    "# label trajectories\n",
    "\n",
    "y_data = []\n",
    "for i in range(len(policies)):\n",
    "    y_data.extend([i] * n_trajectories_per_policy)"
   ]
  },
  {
   "cell_type": "code",
   "execution_count": 109,
   "metadata": {},
   "outputs": [],
   "source": [
    "# shuffle x,y data together\n",
    "import random\n",
    "temp = list(zip(x_data,y_data))\n",
    "random.shuffle(temp)\n",
    "x_data, y_data = zip(*temp)"
   ]
  },
  {
   "cell_type": "code",
   "execution_count": 110,
   "metadata": {},
   "outputs": [
    {
     "output_type": "stream",
     "name": "stdout",
     "text": [
      "397\n"
     ]
    },
    {
     "output_type": "execute_result",
     "data": {
      "text/plain": [
       "<tf.Tensor: shape=(3,), dtype=int64, numpy=array([20000,   397,     3])>"
      ]
     },
     "metadata": {},
     "execution_count": 110
    }
   ],
   "source": [
    "# convert trajectories to ragged tensors\n",
    "x_data = tf.ragged.constant(x_data)\n",
    "max_seq = int(x_data.bounding_shape()[-2])\n",
    "print(max_seq)\n",
    "x_data.bounding_shape()"
   ]
  },
  {
   "cell_type": "code",
   "execution_count": 111,
   "metadata": {},
   "outputs": [
    {
     "output_type": "execute_result",
     "data": {
      "text/plain": [
       "array([0, 3, 2, ..., 2, 0, 0])"
      ]
     },
     "metadata": {},
     "execution_count": 111
    }
   ],
   "source": [
    "# convert y to numpy array\n",
    "y_data = np.array(y_data)\n",
    "y_data"
   ]
  },
  {
   "cell_type": "code",
   "execution_count": 112,
   "metadata": {},
   "outputs": [
    {
     "output_type": "execute_result",
     "data": {
      "text/plain": [
       "(TensorShape([4000, None, None]),\n",
       " TensorShape([16000, None, None]),\n",
       " (4000,),\n",
       " (16000,))"
      ]
     },
     "metadata": {},
     "execution_count": 112
    }
   ],
   "source": [
    "# split into train and test\n",
    "test_prop = .20\n",
    "test_n = int(len(y_data) * test_prop)\n",
    "x_test = x_data[:test_n, :, :]\n",
    "y_test = y_data[:test_n]\n",
    "x_train = x_data[test_n:,:,:]\n",
    "y_train = y_data[test_n:]\n",
    "x_test.shape, x_train.shape, y_test.shape, y_train.shape"
   ]
  },
  {
   "cell_type": "code",
   "execution_count": 113,
   "metadata": {},
   "outputs": [],
   "source": [
    "# create LSTM model\n",
    "lstm_model = tf.keras.Sequential([\n",
    "    tf.keras.layers.Input(shape=(max_seq,3), dtype=tf.float32, ragged=True),\n",
    "    tf.keras.layers.LSTM(64),\n",
    "    tf.keras.layers.Dropout(.5),\n",
    "    tf.keras.layers.Dense(64, activation='relu'),\n",
    "    tf.keras.layers.Dense(4, activation='softmax')\n",
    "])"
   ]
  },
  {
   "cell_type": "code",
   "execution_count": 114,
   "metadata": {},
   "outputs": [
    {
     "output_type": "stream",
     "name": "stdout",
     "text": [
      "Model: \"sequential_5\"\n_________________________________________________________________\nLayer (type)                 Output Shape              Param #   \n=================================================================\nlstm_5 (LSTM)                (None, 64)                17408     \n_________________________________________________________________\ndropout_5 (Dropout)          (None, 64)                0         \n_________________________________________________________________\ndense_10 (Dense)             (None, 64)                4160      \n_________________________________________________________________\ndense_11 (Dense)             (None, 4)                 260       \n=================================================================\nTotal params: 21,828\nTrainable params: 21,828\nNon-trainable params: 0\n_________________________________________________________________\n"
     ]
    }
   ],
   "source": [
    "metrics = ['accuracy']\n",
    "\n",
    "lstm_model.compile(loss=tf.keras.losses.SparseCategoricalCrossentropy(from_logits=True),\n",
    "              optimizer=tf.keras.optimizers.Adam(1e-4),\n",
    "              metrics=metrics)\n",
    "lstm_model.summary()"
   ]
  },
  {
   "cell_type": "code",
   "execution_count": 115,
   "metadata": {},
   "outputs": [
    {
     "output_type": "stream",
     "name": "stdout",
     "text": [
      "Epoch 1/100\n",
      "32/32 [==============================] - 12s 372ms/step - loss: 1.3878 - accuracy: 0.2591 - val_loss: 1.3806 - val_accuracy: 0.2630\n",
      "Epoch 2/100\n",
      "32/32 [==============================] - 11s 355ms/step - loss: 1.3793 - accuracy: 0.2814 - val_loss: 1.3708 - val_accuracy: 0.2492\n",
      "Epoch 3/100\n",
      "32/32 [==============================] - 11s 358ms/step - loss: 1.3676 - accuracy: 0.3187 - val_loss: 1.3535 - val_accuracy: 0.2592\n",
      "Epoch 4/100\n",
      "32/32 [==============================] - 11s 350ms/step - loss: 1.3445 - accuracy: 0.3794 - val_loss: 1.3167 - val_accuracy: 0.4417\n",
      "Epoch 5/100\n",
      "32/32 [==============================] - 11s 349ms/step - loss: 1.3020 - accuracy: 0.4644 - val_loss: 1.2637 - val_accuracy: 0.4933\n",
      "Epoch 6/100\n",
      "32/32 [==============================] - 12s 360ms/step - loss: 1.2524 - accuracy: 0.5064 - val_loss: 1.2167 - val_accuracy: 0.4927\n",
      "Epoch 7/100\n",
      "32/32 [==============================] - 11s 356ms/step - loss: 1.2069 - accuracy: 0.5477 - val_loss: 1.1679 - val_accuracy: 0.5955\n",
      "Epoch 8/100\n",
      "32/32 [==============================] - 11s 356ms/step - loss: 1.1611 - accuracy: 0.6173 - val_loss: 1.1133 - val_accuracy: 0.6758\n",
      "Epoch 9/100\n",
      "32/32 [==============================] - 12s 364ms/step - loss: 1.1194 - accuracy: 0.6645 - val_loss: 1.0781 - val_accuracy: 0.6888\n",
      "Epoch 10/100\n",
      "32/32 [==============================] - 12s 363ms/step - loss: 1.0903 - accuracy: 0.6808 - val_loss: 1.0576 - val_accuracy: 0.6935\n",
      "Epoch 11/100\n",
      "32/32 [==============================] - 12s 366ms/step - loss: 1.0685 - accuracy: 0.6933 - val_loss: 1.0436 - val_accuracy: 0.7013\n",
      "Epoch 12/100\n",
      "32/32 [==============================] - 12s 364ms/step - loss: 1.0540 - accuracy: 0.7020 - val_loss: 1.0329 - val_accuracy: 0.7070\n",
      "Epoch 13/100\n",
      "32/32 [==============================] - 12s 362ms/step - loss: 1.0422 - accuracy: 0.7100 - val_loss: 1.0254 - val_accuracy: 0.7113\n",
      "Epoch 14/100\n",
      "32/32 [==============================] - 11s 352ms/step - loss: 1.0329 - accuracy: 0.7149 - val_loss: 1.0203 - val_accuracy: 0.7160\n",
      "Epoch 15/100\n",
      "32/32 [==============================] - 12s 360ms/step - loss: 1.0263 - accuracy: 0.7189 - val_loss: 1.0146 - val_accuracy: 0.7160\n",
      "Epoch 16/100\n",
      "32/32 [==============================] - 11s 355ms/step - loss: 1.0206 - accuracy: 0.7227 - val_loss: 1.0094 - val_accuracy: 0.7197\n",
      "Epoch 17/100\n",
      "32/32 [==============================] - 12s 362ms/step - loss: 1.0156 - accuracy: 0.7281 - val_loss: 1.0049 - val_accuracy: 0.7253\n",
      "Epoch 18/100\n",
      "32/32 [==============================] - 12s 362ms/step - loss: 1.0088 - accuracy: 0.7343 - val_loss: 0.9990 - val_accuracy: 0.7362\n",
      "Epoch 19/100\n",
      "32/32 [==============================] - 11s 358ms/step - loss: 1.0047 - accuracy: 0.7407 - val_loss: 0.9953 - val_accuracy: 0.7402\n",
      "Epoch 20/100\n",
      "32/32 [==============================] - 12s 361ms/step - loss: 1.0009 - accuracy: 0.7415 - val_loss: 0.9906 - val_accuracy: 0.7448\n",
      "Epoch 21/100\n",
      "32/32 [==============================] - 12s 360ms/step - loss: 0.9962 - accuracy: 0.7484 - val_loss: 0.9865 - val_accuracy: 0.7495\n",
      "Epoch 22/100\n",
      "32/32 [==============================] - 11s 351ms/step - loss: 0.9926 - accuracy: 0.7531 - val_loss: 0.9833 - val_accuracy: 0.7510\n",
      "Epoch 23/100\n",
      "32/32 [==============================] - 12s 367ms/step - loss: 0.9897 - accuracy: 0.7561 - val_loss: 0.9801 - val_accuracy: 0.7567\n",
      "Epoch 24/100\n",
      "32/32 [==============================] - 12s 360ms/step - loss: 0.9882 - accuracy: 0.7571 - val_loss: 0.9770 - val_accuracy: 0.7625\n",
      "Epoch 25/100\n",
      "32/32 [==============================] - 11s 351ms/step - loss: 0.9829 - accuracy: 0.7634 - val_loss: 0.9724 - val_accuracy: 0.7648\n",
      "Epoch 26/100\n",
      "32/32 [==============================] - 11s 355ms/step - loss: 0.9781 - accuracy: 0.7685 - val_loss: 0.9676 - val_accuracy: 0.7692\n",
      "Epoch 27/100\n",
      "32/32 [==============================] - 11s 347ms/step - loss: 0.9773 - accuracy: 0.7679 - val_loss: 0.9651 - val_accuracy: 0.7738\n",
      "Epoch 28/100\n",
      "32/32 [==============================] - 11s 353ms/step - loss: 0.9720 - accuracy: 0.7749 - val_loss: 0.9597 - val_accuracy: 0.7803\n",
      "Epoch 29/100\n",
      "32/32 [==============================] - 11s 358ms/step - loss: 0.9668 - accuracy: 0.7828 - val_loss: 0.9545 - val_accuracy: 0.7883\n",
      "Epoch 30/100\n",
      "32/32 [==============================] - 11s 358ms/step - loss: 0.9632 - accuracy: 0.7867 - val_loss: 0.9504 - val_accuracy: 0.7922\n",
      "Epoch 31/100\n",
      "32/32 [==============================] - 11s 354ms/step - loss: 0.9603 - accuracy: 0.7869 - val_loss: 0.9461 - val_accuracy: 0.7970\n",
      "Epoch 32/100\n",
      "32/32 [==============================] - 11s 350ms/step - loss: 0.9569 - accuracy: 0.7922 - val_loss: 0.9416 - val_accuracy: 0.8015\n",
      "Epoch 33/100\n",
      "32/32 [==============================] - 11s 359ms/step - loss: 0.9529 - accuracy: 0.7938 - val_loss: 0.9369 - val_accuracy: 0.8052\n",
      "Epoch 34/100\n",
      "32/32 [==============================] - 12s 369ms/step - loss: 0.9487 - accuracy: 0.7989 - val_loss: 0.9343 - val_accuracy: 0.8095\n",
      "Epoch 35/100\n",
      "32/32 [==============================] - 11s 354ms/step - loss: 0.9467 - accuracy: 0.8031 - val_loss: 0.9307 - val_accuracy: 0.8133\n",
      "Epoch 36/100\n",
      "32/32 [==============================] - 11s 355ms/step - loss: 0.9435 - accuracy: 0.8028 - val_loss: 0.9262 - val_accuracy: 0.8163\n",
      "Epoch 37/100\n",
      "32/32 [==============================] - 11s 351ms/step - loss: 0.9371 - accuracy: 0.8129 - val_loss: 0.9232 - val_accuracy: 0.8210\n",
      "Epoch 38/100\n",
      "32/32 [==============================] - 12s 364ms/step - loss: 0.9366 - accuracy: 0.8136 - val_loss: 0.9209 - val_accuracy: 0.8217\n",
      "Epoch 39/100\n",
      "32/32 [==============================] - 11s 348ms/step - loss: 0.9340 - accuracy: 0.8156 - val_loss: 0.9175 - val_accuracy: 0.8275\n",
      "Epoch 40/100\n",
      "32/32 [==============================] - 11s 359ms/step - loss: 0.9303 - accuracy: 0.8180 - val_loss: 0.9160 - val_accuracy: 0.8303\n",
      "Epoch 41/100\n",
      "32/32 [==============================] - 12s 360ms/step - loss: 0.9291 - accuracy: 0.8206 - val_loss: 0.9118 - val_accuracy: 0.8340\n",
      "Epoch 42/100\n",
      "32/32 [==============================] - 12s 361ms/step - loss: 0.9266 - accuracy: 0.8245 - val_loss: 0.9110 - val_accuracy: 0.8338\n",
      "Epoch 43/100\n",
      "32/32 [==============================] - 11s 358ms/step - loss: 0.9221 - accuracy: 0.8275 - val_loss: 0.9083 - val_accuracy: 0.8405\n",
      "Epoch 44/100\n",
      "32/32 [==============================] - 12s 364ms/step - loss: 0.9188 - accuracy: 0.8296 - val_loss: 0.9068 - val_accuracy: 0.8393\n",
      "Epoch 45/100\n",
      "32/32 [==============================] - 12s 370ms/step - loss: 0.9181 - accuracy: 0.8294 - val_loss: 0.9060 - val_accuracy: 0.8420\n",
      "Epoch 46/100\n",
      "32/32 [==============================] - 11s 357ms/step - loss: 0.9177 - accuracy: 0.8296 - val_loss: 0.9017 - val_accuracy: 0.8455\n",
      "Epoch 47/100\n",
      "32/32 [==============================] - 11s 358ms/step - loss: 0.9145 - accuracy: 0.8332 - val_loss: 0.9002 - val_accuracy: 0.8495\n",
      "Epoch 48/100\n",
      "32/32 [==============================] - 11s 356ms/step - loss: 0.9129 - accuracy: 0.8343 - val_loss: 0.8987 - val_accuracy: 0.8478\n",
      "Epoch 49/100\n",
      "32/32 [==============================] - 12s 363ms/step - loss: 0.9103 - accuracy: 0.8397 - val_loss: 0.8984 - val_accuracy: 0.8495\n",
      "Epoch 50/100\n",
      "32/32 [==============================] - 11s 351ms/step - loss: 0.9090 - accuracy: 0.8391 - val_loss: 0.8974 - val_accuracy: 0.8487\n",
      "Epoch 51/100\n",
      "32/32 [==============================] - 11s 356ms/step - loss: 0.9062 - accuracy: 0.8431 - val_loss: 0.8927 - val_accuracy: 0.8565\n",
      "Epoch 52/100\n",
      "32/32 [==============================] - 12s 363ms/step - loss: 0.9039 - accuracy: 0.8462 - val_loss: 0.8933 - val_accuracy: 0.8533\n",
      "Epoch 53/100\n",
      "32/32 [==============================] - 11s 353ms/step - loss: 0.9045 - accuracy: 0.8445 - val_loss: 0.8902 - val_accuracy: 0.8577\n",
      "Epoch 54/100\n",
      "32/32 [==============================] - 11s 342ms/step - loss: 0.8991 - accuracy: 0.8484 - val_loss: 0.8881 - val_accuracy: 0.8585\n",
      "Epoch 55/100\n",
      "32/32 [==============================] - 11s 358ms/step - loss: 0.8984 - accuracy: 0.8498 - val_loss: 0.8866 - val_accuracy: 0.8587\n",
      "Epoch 56/100\n",
      "32/32 [==============================] - 11s 344ms/step - loss: 0.8969 - accuracy: 0.8519 - val_loss: 0.8868 - val_accuracy: 0.8597\n",
      "Epoch 57/100\n",
      "32/32 [==============================] - 11s 340ms/step - loss: 0.8940 - accuracy: 0.8556 - val_loss: 0.8838 - val_accuracy: 0.8618\n",
      "Epoch 58/100\n",
      "32/32 [==============================] - 11s 352ms/step - loss: 0.8927 - accuracy: 0.8569 - val_loss: 0.8822 - val_accuracy: 0.8633\n",
      "Epoch 59/100\n",
      "32/32 [==============================] - 11s 349ms/step - loss: 0.8918 - accuracy: 0.8562 - val_loss: 0.8825 - val_accuracy: 0.8627\n",
      "Epoch 60/100\n",
      "32/32 [==============================] - 11s 345ms/step - loss: 0.8880 - accuracy: 0.8606 - val_loss: 0.8791 - val_accuracy: 0.8630\n",
      "Epoch 61/100\n",
      "32/32 [==============================] - 11s 341ms/step - loss: 0.8878 - accuracy: 0.8633 - val_loss: 0.8777 - val_accuracy: 0.8645\n",
      "Epoch 62/100\n",
      "32/32 [==============================] - 11s 353ms/step - loss: 0.8851 - accuracy: 0.8648 - val_loss: 0.8770 - val_accuracy: 0.8675\n",
      "Epoch 63/100\n",
      "32/32 [==============================] - 11s 349ms/step - loss: 0.8832 - accuracy: 0.8671 - val_loss: 0.8742 - val_accuracy: 0.8675\n",
      "Epoch 64/100\n",
      "32/32 [==============================] - 11s 352ms/step - loss: 0.8834 - accuracy: 0.8654 - val_loss: 0.8719 - val_accuracy: 0.8700\n",
      "Epoch 65/100\n",
      "32/32 [==============================] - 11s 344ms/step - loss: 0.8806 - accuracy: 0.8678 - val_loss: 0.8715 - val_accuracy: 0.8708\n",
      "Epoch 66/100\n",
      "32/32 [==============================] - 11s 354ms/step - loss: 0.8787 - accuracy: 0.8689 - val_loss: 0.8697 - val_accuracy: 0.8737\n",
      "Epoch 67/100\n",
      "32/32 [==============================] - 11s 350ms/step - loss: 0.8779 - accuracy: 0.8711 - val_loss: 0.8689 - val_accuracy: 0.8737\n",
      "Epoch 68/100\n",
      "32/32 [==============================] - 11s 342ms/step - loss: 0.8746 - accuracy: 0.8763 - val_loss: 0.8671 - val_accuracy: 0.8740\n",
      "Epoch 69/100\n",
      "32/32 [==============================] - 12s 365ms/step - loss: 0.8740 - accuracy: 0.8766 - val_loss: 0.8651 - val_accuracy: 0.8752\n",
      "Epoch 70/100\n",
      "32/32 [==============================] - 12s 359ms/step - loss: 0.8742 - accuracy: 0.8742 - val_loss: 0.8645 - val_accuracy: 0.8780\n",
      "Epoch 71/100\n",
      "32/32 [==============================] - 11s 339ms/step - loss: 0.8722 - accuracy: 0.8763 - val_loss: 0.8663 - val_accuracy: 0.8735\n",
      "Epoch 72/100\n",
      "32/32 [==============================] - 11s 351ms/step - loss: 0.8720 - accuracy: 0.8758 - val_loss: 0.8642 - val_accuracy: 0.8735\n",
      "Epoch 73/100\n",
      "32/32 [==============================] - 12s 365ms/step - loss: 0.8688 - accuracy: 0.8792 - val_loss: 0.8606 - val_accuracy: 0.8810\n",
      "Epoch 74/100\n",
      "32/32 [==============================] - 11s 359ms/step - loss: 0.8660 - accuracy: 0.8821 - val_loss: 0.8588 - val_accuracy: 0.8830\n",
      "Epoch 75/100\n",
      "32/32 [==============================] - 12s 361ms/step - loss: 0.8651 - accuracy: 0.8827 - val_loss: 0.8584 - val_accuracy: 0.8832\n",
      "Epoch 76/100\n",
      "32/32 [==============================] - 12s 364ms/step - loss: 0.8644 - accuracy: 0.8842 - val_loss: 0.8573 - val_accuracy: 0.8820\n",
      "Epoch 77/100\n",
      "32/32 [==============================] - 12s 362ms/step - loss: 0.8618 - accuracy: 0.8857 - val_loss: 0.8556 - val_accuracy: 0.8865\n",
      "Epoch 78/100\n",
      "32/32 [==============================] - 12s 366ms/step - loss: 0.8624 - accuracy: 0.8846 - val_loss: 0.8546 - val_accuracy: 0.8873\n",
      "Epoch 79/100\n",
      "32/32 [==============================] - 11s 357ms/step - loss: 0.8621 - accuracy: 0.8864 - val_loss: 0.8539 - val_accuracy: 0.8885\n",
      "Epoch 80/100\n",
      "32/32 [==============================] - 11s 358ms/step - loss: 0.8587 - accuracy: 0.8898 - val_loss: 0.8537 - val_accuracy: 0.8878\n",
      "Epoch 81/100\n",
      "32/32 [==============================] - 12s 361ms/step - loss: 0.8583 - accuracy: 0.8902 - val_loss: 0.8538 - val_accuracy: 0.8867\n",
      "Epoch 82/100\n",
      "32/32 [==============================] - 11s 354ms/step - loss: 0.8560 - accuracy: 0.8928 - val_loss: 0.8512 - val_accuracy: 0.8903\n",
      "Epoch 83/100\n",
      "32/32 [==============================] - 11s 351ms/step - loss: 0.8562 - accuracy: 0.8917 - val_loss: 0.8506 - val_accuracy: 0.8880\n",
      "Epoch 84/100\n",
      "32/32 [==============================] - 11s 359ms/step - loss: 0.8583 - accuracy: 0.8880 - val_loss: 0.8500 - val_accuracy: 0.8917\n",
      "Epoch 85/100\n",
      "32/32 [==============================] - 11s 358ms/step - loss: 0.8562 - accuracy: 0.8921 - val_loss: 0.8523 - val_accuracy: 0.8867\n",
      "Epoch 86/100\n",
      "32/32 [==============================] - 12s 363ms/step - loss: 0.8551 - accuracy: 0.8916 - val_loss: 0.8551 - val_accuracy: 0.8842\n",
      "Epoch 87/100\n",
      "32/32 [==============================] - 11s 355ms/step - loss: 0.8537 - accuracy: 0.8929 - val_loss: 0.8484 - val_accuracy: 0.8917\n",
      "Epoch 88/100\n",
      "32/32 [==============================] - 11s 356ms/step - loss: 0.8544 - accuracy: 0.8912 - val_loss: 0.8476 - val_accuracy: 0.8932\n",
      "Epoch 89/100\n",
      "32/32 [==============================] - 11s 356ms/step - loss: 0.8533 - accuracy: 0.8925 - val_loss: 0.8468 - val_accuracy: 0.8928\n",
      "Epoch 90/100\n",
      "32/32 [==============================] - 12s 361ms/step - loss: 0.8521 - accuracy: 0.8946 - val_loss: 0.8456 - val_accuracy: 0.8947\n",
      "Epoch 91/100\n",
      "32/32 [==============================] - 11s 342ms/step - loss: 0.8515 - accuracy: 0.8962 - val_loss: 0.8464 - val_accuracy: 0.8957\n",
      "Epoch 92/100\n",
      "32/32 [==============================] - 11s 353ms/step - loss: 0.8530 - accuracy: 0.8918 - val_loss: 0.8457 - val_accuracy: 0.8945\n",
      "Epoch 93/100\n",
      "32/32 [==============================] - 12s 362ms/step - loss: 0.8512 - accuracy: 0.8959 - val_loss: 0.8456 - val_accuracy: 0.8960\n",
      "Epoch 94/100\n",
      "32/32 [==============================] - 12s 372ms/step - loss: 0.8514 - accuracy: 0.8949 - val_loss: 0.8457 - val_accuracy: 0.8940\n",
      "Epoch 95/100\n",
      "32/32 [==============================] - 12s 360ms/step - loss: 0.8486 - accuracy: 0.8954 - val_loss: 0.8458 - val_accuracy: 0.8920\n",
      "Epoch 96/100\n",
      "32/32 [==============================] - 12s 367ms/step - loss: 0.8476 - accuracy: 0.8994 - val_loss: 0.8433 - val_accuracy: 0.8985\n",
      "Epoch 97/100\n",
      "32/32 [==============================] - 11s 357ms/step - loss: 0.8475 - accuracy: 0.8982 - val_loss: 0.8453 - val_accuracy: 0.8930\n",
      "Epoch 98/100\n",
      "32/32 [==============================] - 11s 358ms/step - loss: 0.8465 - accuracy: 0.9000 - val_loss: 0.8428 - val_accuracy: 0.8963\n",
      "Epoch 99/100\n",
      "32/32 [==============================] - 12s 365ms/step - loss: 0.8459 - accuracy: 0.8992 - val_loss: 0.8435 - val_accuracy: 0.8957\n",
      "Epoch 100/100\n",
      "32/32 [==============================] - 11s 355ms/step - loss: 0.8462 - accuracy: 0.9007 - val_loss: 0.8417 - val_accuracy: 0.8970\n"
     ]
    },
    {
     "output_type": "execute_result",
     "data": {
      "text/plain": [
       "<tensorflow.python.keras.callbacks.History at 0x7f2a6d2c8760>"
      ]
     },
     "metadata": {},
     "execution_count": 115
    }
   ],
   "source": [
    "log_dir = \"logs/fit/\" + datetime.datetime.now().strftime(\"%Y%m%d-%H%M%S\")\n",
    "tensorboard_callback = tf.keras.callbacks.TensorBoard(log_dir=log_dir, histogram_freq=1)\n",
    "\n",
    "\n",
    "lstm_model.fit(x_train,y_train, epochs=100, batch_size=int(n_trajectories_per_policy / 10), validation_data=(x_test,y_test), callbacks=[tensorboard_callback])"
   ]
  },
  {
   "cell_type": "code",
   "execution_count": 117,
   "metadata": {},
   "outputs": [
    {
     "output_type": "execute_result",
     "data": {
      "text/plain": [
       "array([0.98480243, 0.92562814, 0.91557789, 0.76637341])"
      ]
     },
     "metadata": {},
     "execution_count": 117
    }
   ],
   "source": [
    "from sklearn.metrics import confusion_matrix\n",
    "\n",
    "y_predicted = lstm_model.predict_classes(x_test)\n",
    "\n",
    "# get confusion matrix\n",
    "cm = confusion_matrix(y_test, y_predicted)\n",
    "\n",
    "# normalize diagonal entries\n",
    "cm = cm.astype('float') / cm.sum(axis=1)[:, np.newaxis]\n",
    "\n",
    "# accuracy by class (indexes 0-2 refres to fixed policies)\n",
    "# index 3 refres to expert policy\n",
    "cm.diagonal()"
   ]
  }
 ]
}