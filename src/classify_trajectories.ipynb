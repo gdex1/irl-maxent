{
 "metadata": {
  "language_info": {
   "codemirror_mode": {
    "name": "ipython",
    "version": 3
   },
   "file_extension": ".py",
   "mimetype": "text/x-python",
   "name": "python",
   "nbconvert_exporter": "python",
   "pygments_lexer": "ipython3",
   "version": "3.8.3-final"
  },
  "orig_nbformat": 2,
  "kernelspec": {
   "name": "python38364bitenvvenvde0bd83f06e04720aee163b5175a169c",
   "display_name": "Python 3.8.3 64-bit ('env': venv)",
   "language": "python"
  }
 },
 "nbformat": 4,
 "nbformat_minor": 2,
 "cells": [
  {
   "cell_type": "code",
   "execution_count": 2,
   "metadata": {},
   "outputs": [],
   "source": [
    "import numpy as np\n",
    "from trajectory import Trajectory, generate_trajectory, generate_trajectories, stochastic_policy_adapter\n",
    "from solver import value_iteration, stochastic_policy_from_value_expectation\n",
    "from snake_ladder import SnakeLadderWorld\n",
    "import tensorflow as tf\n",
    "import datetime"
   ]
  },
  {
   "cell_type": "code",
   "execution_count": 3,
   "metadata": {},
   "outputs": [],
   "source": [
    "# define some consants\n",
    "world_size = 20\n",
    "shortcut_density = 0.1\n",
    "success_prob = .9\n",
    "n_trajectories_per_policy = 5000"
   ]
  },
  {
   "cell_type": "code",
   "execution_count": 4,
   "metadata": {},
   "outputs": [
    {
     "output_type": "execute_result",
     "data": {
      "text/plain": [
       "array([ 0,  1,  2,  3,  4,  5,  6,  7,  8,  9, 10, 11, 12, 18, 14,  4, 16,\n",
       "       17, 18, 19])"
      ]
     },
     "metadata": {},
     "execution_count": 4
    }
   ],
   "source": [
    "# create our world\n",
    "world = SnakeLadderWorld(size=world_size, shortcut_density=shortcut_density)\n",
    "\n",
    "# set up the reward function\n",
    "reward = np.zeros(world.n_states)\n",
    "reward[-1] = 1.0\n",
    "# start state\n",
    "start = [0]\n",
    "\n",
    "# set up terminal states\n",
    "terminal = [world.size - 1]\n",
    "\n",
    "world.game_board"
   ]
  },
  {
   "cell_type": "code",
   "execution_count": 5,
   "metadata": {},
   "outputs": [],
   "source": [
    "# create some policies\n",
    "# create \"fixed\" policies which each execeute one of the three actions w/ prob p (success_prob)\n",
    "# randomly sample from all actions w/ prob 1 - p\n",
    "# so excute one action with prob p + 1/3(1 - p) and others with 1/3(1 -  p)\n",
    "policies_fixed = []\n",
    "\n",
    "for i in range(3):\n",
    "    def policy(state, action = i):\n",
    "        if success_prob >= np.random.uniform():\n",
    "            return action\n",
    "        else:\n",
    "            return np.random.choice(3)\n",
    "    policies_fixed.append(policy)"
   ]
  },
  {
   "cell_type": "code",
   "execution_count": 6,
   "metadata": {},
   "outputs": [
    {
     "output_type": "execute_result",
     "data": {
      "text/plain": [
       "array([0.1029, 0.9988, 1.9074])"
      ]
     },
     "metadata": {},
     "execution_count": 6
    }
   ],
   "source": [
    "# verify our fixed policies\n",
    "samples = 10000\n",
    "means = [0,0,0]\n",
    "for i in range(samples):\n",
    "    for j in range(3):\n",
    "        means[j] += policies_fixed[j](None)\n",
    "means = np.array(means) / samples\n",
    "means"
   ]
  },
  {
   "cell_type": "code",
   "execution_count": 9,
   "metadata": {},
   "outputs": [
    {
     "output_type": "execute_result",
     "data": {
      "text/plain": [
       "array([[0.28683839, 0.32637941, 0.3867822 ],\n",
       "       [0.2886961 , 0.32320423, 0.38809967],\n",
       "       [0.28739578, 0.32042988, 0.39217434],\n",
       "       [0.28736003, 0.32051728, 0.39212269],\n",
       "       [0.28636628, 0.32182627, 0.39180744],\n",
       "       [0.2840794 , 0.32506086, 0.39085974],\n",
       "       [0.28189816, 0.33028897, 0.38781287],\n",
       "       [0.27836278, 0.34017374, 0.38146348],\n",
       "       [0.28195326, 0.34214716, 0.37589959],\n",
       "       [0.2913629 , 0.32035959, 0.38827751],\n",
       "       [0.29342145, 0.31593565, 0.3906429 ],\n",
       "       [0.29674026, 0.30892015, 0.39433959],\n",
       "       [0.31866611, 0.29159184, 0.38974205],\n",
       "       [0.2937735 , 0.30513304, 0.40109346],\n",
       "       [0.18462666, 0.35876585, 0.45660748],\n",
       "       [0.27562207, 0.3371599 , 0.38721803],\n",
       "       [0.27005555, 0.3472759 , 0.38266855],\n",
       "       [0.26410717, 0.35850648, 0.37738635],\n",
       "       [0.33333333, 0.33333333, 0.33333333],\n",
       "       [0.33333333, 0.33333333, 0.33333333]])"
      ]
     },
     "metadata": {},
     "execution_count": 9
    }
   ],
   "source": [
    "# generate an \"optimal\" policy w/ value iteration\n",
    "discount = .7\n",
    "weighting = lambda x: x\n",
    "\n",
    "value = value_iteration(world.p_transition, reward, discount)\n",
    "policy = stochastic_policy_from_value_expectation(world, value)\n",
    "policy_exec = stochastic_policy_adapter(policy)\n",
    "\n",
    "policy"
   ]
  },
  {
   "cell_type": "code",
   "execution_count": 16,
   "metadata": {},
   "outputs": [],
   "source": [
    "# create list of policies\n",
    "#policies = policies_fixed\n",
    "policies = []\n",
    "policies.append(policy_exec) # add expert policy to list\n",
    "policies.append(world._smartish_policy)"
   ]
  },
  {
   "cell_type": "code",
   "execution_count": 17,
   "metadata": {},
   "outputs": [],
   "source": [
    "# generate trajectories with policies\n",
    "trajectories_list = []\n",
    "for i, policy in enumerate(policies):\n",
    "    trajectories = list(generate_trajectories(n_trajectories_per_policy, world, policies[i], start, terminal))\n",
    "    trajectories = [t._t for t in trajectories]\n",
    "    trajectories_list.append(trajectories)"
   ]
  },
  {
   "cell_type": "code",
   "execution_count": 18,
   "metadata": {},
   "outputs": [
    {
     "output_type": "execute_result",
     "data": {
      "text/plain": [
       "[(0, 2, 9), (9, 1, 13), (13, 2, 19)]"
      ]
     },
     "metadata": {},
     "execution_count": 18
    }
   ],
   "source": [
    "# a trajectory from policy 0\n",
    "trajectories_list[0][0]"
   ]
  },
  {
   "cell_type": "code",
   "execution_count": 19,
   "metadata": {},
   "outputs": [],
   "source": [
    "# create list of all trajectories, each is a 2d list\n",
    "\n",
    "x_data = []\n",
    "for i, policy in enumerate(policies):\n",
    "    x_data.extend([np.matrix(t).tolist() for t in trajectories_list[i]])"
   ]
  },
  {
   "cell_type": "code",
   "execution_count": 20,
   "metadata": {},
   "outputs": [],
   "source": [
    "# label trajectories\n",
    "\n",
    "y_data = []\n",
    "for i in range(len(policies)):\n",
    "    y_data.extend([i] * n_trajectories_per_policy)"
   ]
  },
  {
   "cell_type": "code",
   "execution_count": 21,
   "metadata": {},
   "outputs": [],
   "source": [
    "# shuffle x,y data together\n",
    "import random\n",
    "temp = list(zip(x_data,y_data))\n",
    "random.shuffle(temp)\n",
    "x_data, y_data = zip(*temp)"
   ]
  },
  {
   "cell_type": "code",
   "execution_count": 22,
   "metadata": {},
   "outputs": [
    {
     "output_type": "stream",
     "name": "stdout",
     "text": [
      "29\n"
     ]
    },
    {
     "output_type": "execute_result",
     "data": {
      "text/plain": [
       "<tf.Tensor: shape=(3,), dtype=int64, numpy=array([10000,    29,     3])>"
      ]
     },
     "metadata": {},
     "execution_count": 22
    }
   ],
   "source": [
    "# convert trajectories to ragged tensors\n",
    "x_data = tf.ragged.constant(x_data)\n",
    "max_seq = int(x_data.bounding_shape()[-2])\n",
    "print(max_seq)\n",
    "x_data.bounding_shape()"
   ]
  },
  {
   "cell_type": "code",
   "execution_count": 23,
   "metadata": {},
   "outputs": [
    {
     "output_type": "execute_result",
     "data": {
      "text/plain": [
       "array([1, 0, 0, ..., 1, 0, 0])"
      ]
     },
     "metadata": {},
     "execution_count": 23
    }
   ],
   "source": [
    "# convert y to numpy array\n",
    "y_data = np.array(y_data)\n",
    "y_data"
   ]
  },
  {
   "cell_type": "code",
   "execution_count": 24,
   "metadata": {},
   "outputs": [
    {
     "output_type": "execute_result",
     "data": {
      "text/plain": [
       "(TensorShape([2000, None, None]),\n",
       " TensorShape([8000, None, None]),\n",
       " (2000,),\n",
       " (8000,))"
      ]
     },
     "metadata": {},
     "execution_count": 24
    }
   ],
   "source": [
    "# split into train and test\n",
    "test_prop = .20\n",
    "test_n = int(len(y_data) * test_prop)\n",
    "x_test = x_data[:test_n, :, :]\n",
    "y_test = y_data[:test_n]\n",
    "x_train = x_data[test_n:,:,:]\n",
    "y_train = y_data[test_n:]\n",
    "x_test.shape, x_train.shape, y_test.shape, y_train.shape"
   ]
  },
  {
   "cell_type": "code",
   "execution_count": 25,
   "metadata": {},
   "outputs": [],
   "source": [
    "# create LSTM model\n",
    "lstm_model = tf.keras.Sequential([\n",
    "    tf.keras.layers.Input(shape=(max_seq,3), dtype=tf.float32, ragged=True),\n",
    "    tf.keras.layers.LSTM(64),\n",
    "    tf.keras.layers.Dropout(.5),\n",
    "    tf.keras.layers.Dense(64, activation='relu'),\n",
    "    tf.keras.layers.Dense(4, activation='softmax')\n",
    "])"
   ]
  },
  {
   "cell_type": "code",
   "execution_count": 26,
   "metadata": {},
   "outputs": [
    {
     "output_type": "stream",
     "name": "stdout",
     "text": [
      "Model: \"sequential\"\n_________________________________________________________________\nLayer (type)                 Output Shape              Param #   \n=================================================================\nlstm (LSTM)                  (None, 64)                17408     \n_________________________________________________________________\ndropout (Dropout)            (None, 64)                0         \n_________________________________________________________________\ndense (Dense)                (None, 64)                4160      \n_________________________________________________________________\ndense_1 (Dense)              (None, 4)                 260       \n=================================================================\nTotal params: 21,828\nTrainable params: 21,828\nNon-trainable params: 0\n_________________________________________________________________\n"
     ]
    }
   ],
   "source": [
    "metrics = ['accuracy']\n",
    "\n",
    "lstm_model.compile(loss=tf.keras.losses.SparseCategoricalCrossentropy(from_logits=True),\n",
    "              optimizer=tf.keras.optimizers.Adam(1e-4),\n",
    "              metrics=metrics)\n",
    "lstm_model.summary()"
   ]
  },
  {
   "cell_type": "code",
   "execution_count": 29,
   "metadata": {},
   "outputs": [
    {
     "output_type": "stream",
     "name": "stdout",
     "text": [
      "Epoch 1/100\n",
      " 2/16 [==>...........................] - ETA: 0s - loss: 0.8969 - accuracy: 0.8460WARNING:tensorflow:Callbacks method `on_train_batch_end` is slow compared to the batch time (batch time: 0.0373s vs `on_train_batch_end` time: 0.0792s). Check your callbacks.\n",
      "16/16 [==============================] - 1s 44ms/step - loss: 0.8978 - accuracy: 0.8481 - val_loss: 0.8915 - val_accuracy: 0.8505\n",
      "Epoch 2/100\n",
      "16/16 [==============================] - 1s 38ms/step - loss: 0.8987 - accuracy: 0.8482 - val_loss: 0.8930 - val_accuracy: 0.8475\n",
      "Epoch 3/100\n",
      "16/16 [==============================] - 1s 38ms/step - loss: 0.8995 - accuracy: 0.8479 - val_loss: 0.8896 - val_accuracy: 0.8530\n",
      "Epoch 4/100\n",
      "16/16 [==============================] - 1s 38ms/step - loss: 0.8990 - accuracy: 0.8456 - val_loss: 0.8882 - val_accuracy: 0.8545\n",
      "Epoch 5/100\n",
      "16/16 [==============================] - 1s 39ms/step - loss: 0.8980 - accuracy: 0.8469 - val_loss: 0.8880 - val_accuracy: 0.8545\n",
      "Epoch 6/100\n",
      "16/16 [==============================] - 1s 37ms/step - loss: 0.8960 - accuracy: 0.8500 - val_loss: 0.8880 - val_accuracy: 0.8525\n",
      "Epoch 7/100\n",
      "16/16 [==============================] - 1s 39ms/step - loss: 0.8948 - accuracy: 0.8508 - val_loss: 0.8862 - val_accuracy: 0.8545\n",
      "Epoch 8/100\n",
      "16/16 [==============================] - 1s 36ms/step - loss: 0.8942 - accuracy: 0.8504 - val_loss: 0.8865 - val_accuracy: 0.8560\n",
      "Epoch 9/100\n",
      "16/16 [==============================] - 1s 38ms/step - loss: 0.8950 - accuracy: 0.8493 - val_loss: 0.8846 - val_accuracy: 0.8565\n",
      "Epoch 10/100\n",
      "16/16 [==============================] - 1s 38ms/step - loss: 0.8937 - accuracy: 0.8519 - val_loss: 0.8845 - val_accuracy: 0.8570\n",
      "Epoch 11/100\n",
      "16/16 [==============================] - 1s 39ms/step - loss: 0.8927 - accuracy: 0.8536 - val_loss: 0.8832 - val_accuracy: 0.8595\n",
      "Epoch 12/100\n",
      "16/16 [==============================] - 1s 37ms/step - loss: 0.8921 - accuracy: 0.8546 - val_loss: 0.8829 - val_accuracy: 0.8605\n",
      "Epoch 13/100\n",
      "16/16 [==============================] - 1s 39ms/step - loss: 0.8906 - accuracy: 0.8558 - val_loss: 0.8827 - val_accuracy: 0.8610\n",
      "Epoch 14/100\n",
      "16/16 [==============================] - 1s 38ms/step - loss: 0.8920 - accuracy: 0.8539 - val_loss: 0.8817 - val_accuracy: 0.8605\n",
      "Epoch 15/100\n",
      "16/16 [==============================] - 1s 39ms/step - loss: 0.8905 - accuracy: 0.8554 - val_loss: 0.8841 - val_accuracy: 0.8595\n",
      "Epoch 16/100\n",
      "16/16 [==============================] - 1s 39ms/step - loss: 0.8901 - accuracy: 0.8549 - val_loss: 0.8802 - val_accuracy: 0.8655\n",
      "Epoch 17/100\n",
      "16/16 [==============================] - 1s 38ms/step - loss: 0.8893 - accuracy: 0.8571 - val_loss: 0.8794 - val_accuracy: 0.8615\n",
      "Epoch 18/100\n",
      "16/16 [==============================] - 1s 38ms/step - loss: 0.8877 - accuracy: 0.8586 - val_loss: 0.8789 - val_accuracy: 0.8640\n",
      "Epoch 19/100\n",
      "16/16 [==============================] - 1s 39ms/step - loss: 0.8880 - accuracy: 0.8577 - val_loss: 0.8793 - val_accuracy: 0.8615\n",
      "Epoch 20/100\n",
      "16/16 [==============================] - 1s 37ms/step - loss: 0.8861 - accuracy: 0.8601 - val_loss: 0.8773 - val_accuracy: 0.8700\n",
      "Epoch 21/100\n",
      "16/16 [==============================] - 1s 38ms/step - loss: 0.8862 - accuracy: 0.8599 - val_loss: 0.8773 - val_accuracy: 0.8685\n",
      "Epoch 22/100\n",
      "16/16 [==============================] - 1s 40ms/step - loss: 0.8867 - accuracy: 0.8593 - val_loss: 0.8772 - val_accuracy: 0.8705\n",
      "Epoch 23/100\n",
      "16/16 [==============================] - 1s 40ms/step - loss: 0.8852 - accuracy: 0.8625 - val_loss: 0.8761 - val_accuracy: 0.8695\n",
      "Epoch 24/100\n",
      "16/16 [==============================] - 1s 37ms/step - loss: 0.8840 - accuracy: 0.8655 - val_loss: 0.8768 - val_accuracy: 0.8670\n",
      "Epoch 25/100\n",
      "16/16 [==============================] - 1s 40ms/step - loss: 0.8850 - accuracy: 0.8604 - val_loss: 0.8750 - val_accuracy: 0.8705\n",
      "Epoch 26/100\n",
      "16/16 [==============================] - 1s 40ms/step - loss: 0.8834 - accuracy: 0.8630 - val_loss: 0.8745 - val_accuracy: 0.8715\n",
      "Epoch 27/100\n",
      "16/16 [==============================] - 1s 39ms/step - loss: 0.8841 - accuracy: 0.8612 - val_loss: 0.8741 - val_accuracy: 0.8725\n",
      "Epoch 28/100\n",
      "16/16 [==============================] - 1s 38ms/step - loss: 0.8828 - accuracy: 0.8641 - val_loss: 0.8741 - val_accuracy: 0.8710\n",
      "Epoch 29/100\n",
      "16/16 [==============================] - 1s 39ms/step - loss: 0.8811 - accuracy: 0.8650 - val_loss: 0.8727 - val_accuracy: 0.8745\n",
      "Epoch 30/100\n",
      "16/16 [==============================] - 1s 37ms/step - loss: 0.8816 - accuracy: 0.8668 - val_loss: 0.8723 - val_accuracy: 0.8735\n",
      "Epoch 31/100\n",
      "16/16 [==============================] - 1s 38ms/step - loss: 0.8809 - accuracy: 0.8655 - val_loss: 0.8725 - val_accuracy: 0.8745\n",
      "Epoch 32/100\n",
      "16/16 [==============================] - 1s 38ms/step - loss: 0.8812 - accuracy: 0.8648 - val_loss: 0.8721 - val_accuracy: 0.8785\n",
      "Epoch 33/100\n",
      "16/16 [==============================] - 1s 39ms/step - loss: 0.8798 - accuracy: 0.8658 - val_loss: 0.8718 - val_accuracy: 0.8760\n",
      "Epoch 34/100\n",
      "16/16 [==============================] - 1s 39ms/step - loss: 0.8790 - accuracy: 0.8666 - val_loss: 0.8703 - val_accuracy: 0.8750\n",
      "Epoch 35/100\n",
      "16/16 [==============================] - 1s 38ms/step - loss: 0.8771 - accuracy: 0.8702 - val_loss: 0.8711 - val_accuracy: 0.8775\n",
      "Epoch 36/100\n",
      "16/16 [==============================] - 1s 36ms/step - loss: 0.8791 - accuracy: 0.8673 - val_loss: 0.8695 - val_accuracy: 0.8780\n",
      "Epoch 37/100\n",
      "16/16 [==============================] - 1s 39ms/step - loss: 0.8778 - accuracy: 0.8694 - val_loss: 0.8693 - val_accuracy: 0.8760\n",
      "Epoch 38/100\n",
      "16/16 [==============================] - 1s 38ms/step - loss: 0.8776 - accuracy: 0.8681 - val_loss: 0.8695 - val_accuracy: 0.8760\n",
      "Epoch 39/100\n",
      "16/16 [==============================] - 1s 37ms/step - loss: 0.8781 - accuracy: 0.8686 - val_loss: 0.8696 - val_accuracy: 0.8780\n",
      "Epoch 40/100\n",
      "16/16 [==============================] - 1s 40ms/step - loss: 0.8757 - accuracy: 0.8704 - val_loss: 0.8679 - val_accuracy: 0.8815\n",
      "Epoch 41/100\n",
      "16/16 [==============================] - 1s 37ms/step - loss: 0.8758 - accuracy: 0.8710 - val_loss: 0.8673 - val_accuracy: 0.8795\n",
      "Epoch 42/100\n",
      "16/16 [==============================] - 1s 38ms/step - loss: 0.8760 - accuracy: 0.8719 - val_loss: 0.8673 - val_accuracy: 0.8785\n",
      "Epoch 43/100\n",
      "16/16 [==============================] - 1s 38ms/step - loss: 0.8772 - accuracy: 0.8694 - val_loss: 0.8690 - val_accuracy: 0.8780\n",
      "Epoch 44/100\n",
      "16/16 [==============================] - 1s 38ms/step - loss: 0.8760 - accuracy: 0.8706 - val_loss: 0.8680 - val_accuracy: 0.8805\n",
      "Epoch 45/100\n",
      "16/16 [==============================] - 1s 37ms/step - loss: 0.8761 - accuracy: 0.8705 - val_loss: 0.8659 - val_accuracy: 0.8815\n",
      "Epoch 46/100\n",
      "16/16 [==============================] - 1s 39ms/step - loss: 0.8745 - accuracy: 0.8710 - val_loss: 0.8658 - val_accuracy: 0.8780\n",
      "Epoch 47/100\n",
      "16/16 [==============================] - 1s 38ms/step - loss: 0.8736 - accuracy: 0.8740 - val_loss: 0.8649 - val_accuracy: 0.8820\n",
      "Epoch 48/100\n",
      "16/16 [==============================] - 1s 39ms/step - loss: 0.8738 - accuracy: 0.8737 - val_loss: 0.8648 - val_accuracy: 0.8820\n",
      "Epoch 49/100\n",
      "16/16 [==============================] - 1s 39ms/step - loss: 0.8717 - accuracy: 0.8744 - val_loss: 0.8648 - val_accuracy: 0.8815\n",
      "Epoch 50/100\n",
      "16/16 [==============================] - 1s 38ms/step - loss: 0.8724 - accuracy: 0.8744 - val_loss: 0.8641 - val_accuracy: 0.8820\n",
      "Epoch 51/100\n",
      "16/16 [==============================] - 1s 37ms/step - loss: 0.8725 - accuracy: 0.8750 - val_loss: 0.8642 - val_accuracy: 0.8835\n",
      "Epoch 52/100\n",
      "16/16 [==============================] - 1s 38ms/step - loss: 0.8731 - accuracy: 0.8736 - val_loss: 0.8638 - val_accuracy: 0.8830\n",
      "Epoch 53/100\n",
      "16/16 [==============================] - 1s 39ms/step - loss: 0.8717 - accuracy: 0.8761 - val_loss: 0.8648 - val_accuracy: 0.8830\n",
      "Epoch 54/100\n",
      "16/16 [==============================] - 1s 39ms/step - loss: 0.8719 - accuracy: 0.8744 - val_loss: 0.8643 - val_accuracy: 0.8795\n",
      "Epoch 55/100\n",
      "16/16 [==============================] - 1s 39ms/step - loss: 0.8729 - accuracy: 0.8725 - val_loss: 0.8624 - val_accuracy: 0.8855\n",
      "Epoch 56/100\n",
      "16/16 [==============================] - 1s 39ms/step - loss: 0.8701 - accuracy: 0.8779 - val_loss: 0.8622 - val_accuracy: 0.8840\n",
      "Epoch 57/100\n",
      "16/16 [==============================] - 1s 38ms/step - loss: 0.8719 - accuracy: 0.8750 - val_loss: 0.8622 - val_accuracy: 0.8855\n",
      "Epoch 58/100\n",
      "16/16 [==============================] - 1s 37ms/step - loss: 0.8707 - accuracy: 0.8749 - val_loss: 0.8620 - val_accuracy: 0.8855\n",
      "Epoch 59/100\n",
      "16/16 [==============================] - 1s 38ms/step - loss: 0.8708 - accuracy: 0.8754 - val_loss: 0.8618 - val_accuracy: 0.8845\n",
      "Epoch 60/100\n",
      "16/16 [==============================] - 1s 38ms/step - loss: 0.8701 - accuracy: 0.8766 - val_loss: 0.8615 - val_accuracy: 0.8840\n",
      "Epoch 61/100\n",
      "16/16 [==============================] - 1s 38ms/step - loss: 0.8694 - accuracy: 0.8760 - val_loss: 0.8613 - val_accuracy: 0.8845\n",
      "Epoch 62/100\n",
      "16/16 [==============================] - 1s 37ms/step - loss: 0.8683 - accuracy: 0.8774 - val_loss: 0.8612 - val_accuracy: 0.8845\n",
      "Epoch 63/100\n",
      "16/16 [==============================] - 1s 37ms/step - loss: 0.8702 - accuracy: 0.8745 - val_loss: 0.8607 - val_accuracy: 0.8855\n",
      "Epoch 64/100\n",
      "16/16 [==============================] - 1s 37ms/step - loss: 0.8690 - accuracy: 0.8774 - val_loss: 0.8609 - val_accuracy: 0.8855\n",
      "Epoch 65/100\n",
      "16/16 [==============================] - 1s 37ms/step - loss: 0.8687 - accuracy: 0.8785 - val_loss: 0.8614 - val_accuracy: 0.8830\n",
      "Epoch 66/100\n",
      "16/16 [==============================] - 1s 38ms/step - loss: 0.8695 - accuracy: 0.8773 - val_loss: 0.8609 - val_accuracy: 0.8835\n",
      "Epoch 67/100\n",
      "16/16 [==============================] - 1s 39ms/step - loss: 0.8686 - accuracy: 0.8774 - val_loss: 0.8608 - val_accuracy: 0.8825\n",
      "Epoch 68/100\n",
      "16/16 [==============================] - 1s 38ms/step - loss: 0.8680 - accuracy: 0.8785 - val_loss: 0.8599 - val_accuracy: 0.8830\n",
      "Epoch 69/100\n",
      "16/16 [==============================] - 1s 38ms/step - loss: 0.8671 - accuracy: 0.8785 - val_loss: 0.8591 - val_accuracy: 0.8870\n",
      "Epoch 70/100\n",
      "16/16 [==============================] - 1s 38ms/step - loss: 0.8668 - accuracy: 0.8790 - val_loss: 0.8588 - val_accuracy: 0.8865\n",
      "Epoch 71/100\n",
      "16/16 [==============================] - 1s 39ms/step - loss: 0.8679 - accuracy: 0.8773 - val_loss: 0.8584 - val_accuracy: 0.8890\n",
      "Epoch 72/100\n",
      "16/16 [==============================] - 1s 39ms/step - loss: 0.8660 - accuracy: 0.8800 - val_loss: 0.8582 - val_accuracy: 0.8890\n",
      "Epoch 73/100\n",
      "16/16 [==============================] - 1s 37ms/step - loss: 0.8667 - accuracy: 0.8808 - val_loss: 0.8581 - val_accuracy: 0.8880\n",
      "Epoch 74/100\n",
      "16/16 [==============================] - 1s 38ms/step - loss: 0.8667 - accuracy: 0.8792 - val_loss: 0.8579 - val_accuracy: 0.8890\n",
      "Epoch 75/100\n",
      "16/16 [==============================] - 1s 40ms/step - loss: 0.8672 - accuracy: 0.8786 - val_loss: 0.8596 - val_accuracy: 0.8840\n",
      "Epoch 76/100\n",
      "16/16 [==============================] - 1s 37ms/step - loss: 0.8678 - accuracy: 0.8767 - val_loss: 0.8587 - val_accuracy: 0.8835\n",
      "Epoch 77/100\n",
      "16/16 [==============================] - 1s 38ms/step - loss: 0.8658 - accuracy: 0.8804 - val_loss: 0.8581 - val_accuracy: 0.8865\n",
      "Epoch 78/100\n",
      "16/16 [==============================] - 1s 38ms/step - loss: 0.8646 - accuracy: 0.8805 - val_loss: 0.8572 - val_accuracy: 0.8880\n",
      "Epoch 79/100\n",
      "16/16 [==============================] - 1s 37ms/step - loss: 0.8659 - accuracy: 0.8799 - val_loss: 0.8574 - val_accuracy: 0.8880\n",
      "Epoch 80/100\n",
      "16/16 [==============================] - 1s 38ms/step - loss: 0.8651 - accuracy: 0.8819 - val_loss: 0.8609 - val_accuracy: 0.8795\n",
      "Epoch 81/100\n",
      "16/16 [==============================] - 1s 38ms/step - loss: 0.8647 - accuracy: 0.8810 - val_loss: 0.8559 - val_accuracy: 0.8905\n",
      "Epoch 82/100\n",
      "16/16 [==============================] - 1s 39ms/step - loss: 0.8651 - accuracy: 0.8808 - val_loss: 0.8587 - val_accuracy: 0.8840\n",
      "Epoch 83/100\n",
      "16/16 [==============================] - 1s 40ms/step - loss: 0.8639 - accuracy: 0.8816 - val_loss: 0.8568 - val_accuracy: 0.8875\n",
      "Epoch 84/100\n",
      "16/16 [==============================] - 1s 38ms/step - loss: 0.8643 - accuracy: 0.8810 - val_loss: 0.8560 - val_accuracy: 0.8885\n",
      "Epoch 85/100\n",
      "16/16 [==============================] - 1s 39ms/step - loss: 0.8647 - accuracy: 0.8802 - val_loss: 0.8550 - val_accuracy: 0.8895\n",
      "Epoch 86/100\n",
      "16/16 [==============================] - 1s 38ms/step - loss: 0.8642 - accuracy: 0.8821 - val_loss: 0.8556 - val_accuracy: 0.8895\n",
      "Epoch 87/100\n",
      "16/16 [==============================] - 1s 37ms/step - loss: 0.8647 - accuracy: 0.8808 - val_loss: 0.8553 - val_accuracy: 0.8895\n",
      "Epoch 88/100\n",
      "16/16 [==============================] - 1s 39ms/step - loss: 0.8649 - accuracy: 0.8808 - val_loss: 0.8546 - val_accuracy: 0.8895\n",
      "Epoch 89/100\n",
      "16/16 [==============================] - 1s 37ms/step - loss: 0.8643 - accuracy: 0.8815 - val_loss: 0.8543 - val_accuracy: 0.8895\n",
      "Epoch 90/100\n",
      "16/16 [==============================] - 1s 38ms/step - loss: 0.8640 - accuracy: 0.8816 - val_loss: 0.8558 - val_accuracy: 0.8885\n",
      "Epoch 91/100\n",
      "16/16 [==============================] - 1s 37ms/step - loss: 0.8641 - accuracy: 0.8814 - val_loss: 0.8543 - val_accuracy: 0.8900\n",
      "Epoch 92/100\n",
      "16/16 [==============================] - 1s 39ms/step - loss: 0.8644 - accuracy: 0.8813 - val_loss: 0.8540 - val_accuracy: 0.8890\n",
      "Epoch 93/100\n",
      "16/16 [==============================] - 1s 38ms/step - loss: 0.8627 - accuracy: 0.8830 - val_loss: 0.8539 - val_accuracy: 0.8900\n",
      "Epoch 94/100\n",
      "16/16 [==============================] - 1s 38ms/step - loss: 0.8632 - accuracy: 0.8820 - val_loss: 0.8541 - val_accuracy: 0.8895\n",
      "Epoch 95/100\n",
      "16/16 [==============================] - 1s 38ms/step - loss: 0.8640 - accuracy: 0.8821 - val_loss: 0.8548 - val_accuracy: 0.8895\n",
      "Epoch 96/100\n",
      "16/16 [==============================] - 1s 37ms/step - loss: 0.8616 - accuracy: 0.8823 - val_loss: 0.8531 - val_accuracy: 0.8895\n",
      "Epoch 97/100\n",
      "16/16 [==============================] - 1s 37ms/step - loss: 0.8628 - accuracy: 0.8821 - val_loss: 0.8535 - val_accuracy: 0.8915\n",
      "Epoch 98/100\n",
      "16/16 [==============================] - 1s 38ms/step - loss: 0.8628 - accuracy: 0.8829 - val_loss: 0.8530 - val_accuracy: 0.8915\n",
      "Epoch 99/100\n",
      "16/16 [==============================] - 1s 37ms/step - loss: 0.8633 - accuracy: 0.8815 - val_loss: 0.8524 - val_accuracy: 0.8930\n",
      "Epoch 100/100\n",
      "16/16 [==============================] - 1s 37ms/step - loss: 0.8627 - accuracy: 0.8815 - val_loss: 0.8525 - val_accuracy: 0.8910\n"
     ]
    },
    {
     "output_type": "execute_result",
     "data": {
      "text/plain": [
       "<tensorflow.python.keras.callbacks.History at 0x7f2a4c50b8b0>"
      ]
     },
     "metadata": {},
     "execution_count": 29
    }
   ],
   "source": [
    "log_dir = \"logs/fit/\" + datetime.datetime.now().strftime(\"%Y%m%d-%H%M%S\")\n",
    "tensorboard_callback = tf.keras.callbacks.TensorBoard(log_dir=log_dir, histogram_freq=1)\n",
    "\n",
    "\n",
    "lstm_model.fit(x_train,y_train, epochs=100, batch_size=int(n_trajectories_per_policy / 10), validation_data=(x_test,y_test), callbacks=[tensorboard_callback])"
   ]
  },
  {
   "cell_type": "code",
   "execution_count": 30,
   "metadata": {},
   "outputs": [
    {
     "output_type": "execute_result",
     "data": {
      "text/plain": [
       "array([0.93493493, 0.84715285])"
      ]
     },
     "metadata": {},
     "execution_count": 30
    }
   ],
   "source": [
    "from sklearn.metrics import confusion_matrix\n",
    "\n",
    "y_predicted = lstm_model.predict_classes(x_test)\n",
    "\n",
    "# get confusion matrix\n",
    "cm = confusion_matrix(y_test, y_predicted)\n",
    "\n",
    "# normalize diagonal entries\n",
    "cm = cm.astype('float') / cm.sum(axis=1)[:, np.newaxis]\n",
    "\n",
    "# accuracy by class (indexes 0-2 refres to fixed policies)\n",
    "# index 3 refres to expert policy\n",
    "cm.diagonal()"
   ]
  }
 ]
}